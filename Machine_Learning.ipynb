{
 "cells": [
  {
   "cell_type": "code",
   "execution_count": 24,
   "metadata": {},
   "outputs": [],
   "source": [
    "# fit and evaluate an AR model\n",
    "from pandas import read_csv\n",
    "from matplotlib import pyplot\n",
    "from statsmodels.tsa.ar_model import AutoReg\n",
    "from sklearn.metrics import mean_squared_error\n",
    "import numpy\n",
    "from math import sqrt"
   ]
  },
  {
   "cell_type": "code",
   "execution_count": 25,
   "metadata": {},
   "outputs": [],
   "source": [
    "# create a difference transform of the dataset\n",
    "def difference(dataset):\n",
    "\tdiff = list()\n",
    "\tfor i in range(1, len(dataset)):\n",
    "\t\tvalue = dataset[i] - dataset[i - 1]\n",
    "\t\tdiff.append(value)\n",
    "\treturn numpy.array(diff)"
   ]
  },
  {
   "cell_type": "code",
   "execution_count": 26,
   "metadata": {},
   "outputs": [],
   "source": [
    "# Make a prediction give regression coefficients and lag obs\n",
    "def predict(coef, history):\n",
    "\tyhat = coef[0]\n",
    "\tfor i in range(1, len(coef)):\n",
    "\t\tyhat += coef[i] * history[-i]\n",
    "\treturn yhat"
   ]
  },
  {
   "cell_type": "code",
   "execution_count": 32,
   "metadata": {},
   "outputs": [],
   "source": [
    "series = read_csv('Food_availability.csv', header=0, index_col=0, parse_dates=True, squeeze=True)\n",
    "# split dataset\n",
    "X = difference(series.values)\n",
    "size = int(len(X) * 0.8)\n",
    "train, test = X[size:], X[0:size]"
   ]
  },
  {
   "cell_type": "code",
   "execution_count": 40,
   "metadata": {},
   "outputs": [
    {
     "name": "stderr",
     "output_type": "stream",
     "text": [
      "C:\\Users\\User\\anaconda3\\lib\\site-packages\\statsmodels\\tsa\\ar_model.py:248: FutureWarning: The parameter names will change after 0.12 is released. Set old_names to False to use the new names now. Set old_names to True to use the old names. \n",
      "  warnings.warn(\n"
     ]
    }
   ],
   "source": [
    "# train autoregression\n",
    "window = 2\n",
    "model = AutoReg(train, lags=1)\n",
    "model_fit = model.fit()\n",
    "coef = model_fit.params"
   ]
  },
  {
   "cell_type": "code",
   "execution_count": 41,
   "metadata": {},
   "outputs": [
    {
     "name": "stdout",
     "output_type": "stream",
     "text": [
      "Test RMSE: 1482.764\n"
     ]
    }
   ],
   "source": [
    "# walk forward over time steps in test\n",
    "history = [train[i] for i in range(len(train))]\n",
    "predictions = list()\n",
    "for t in range(len(test)):\n",
    "\tyhat = predict(coef, history)\n",
    "\tobs = test[t]\n",
    "\tpredictions.append(yhat)\n",
    "\thistory.append(obs)\n",
    "rmse = sqrt(mean_squared_error(test, predictions))\n",
    "print('Test RMSE: %.3f' % rmse)"
   ]
  },
  {
   "cell_type": "code",
   "execution_count": 42,
   "metadata": {},
   "outputs": [
    {
     "data": {
      "image/png": "[encoded data removed]",
      "text/plain": [
       "<Figure size 432x288 with 1 Axes>"
      ]
     },
     "metadata": {
      "needs_background": "light"
     },
     "output_type": "display_data"
    }
   ],
   "source": [
    "# plot\n",
    "pyplot.plot(test)\n",
    "pyplot.plot(predictions, color='red')\n",
    "pyplot.show()"
   ]
  },
  {
   "cell_type": "code",
   "execution_count": 43,
   "metadata": {},
   "outputs": [
    {
     "name": "stderr",
     "output_type": "stream",
     "text": [
      "C:\\Users\\User\\anaconda3\\lib\\site-packages\\statsmodels\\tsa\\ar_model.py:248: FutureWarning: The parameter names will change after 0.12 is released. Set old_names to False to use the new names now. Set old_names to True to use the old names. \n",
      "  warnings.warn(\n"
     ]
    }
   ],
   "source": [
    "# fit an AR model and save the whole model to file\n",
    "from pandas import read_csv\n",
    "from statsmodels.tsa.ar_model import AutoReg\n",
    "import numpy\n",
    " \n",
    "# create a difference transform of the dataset\n",
    "def difference(dataset):\n",
    "\tdiff = list()\n",
    "\tfor i in range(1, len(dataset)):\n",
    "\t\tvalue = dataset[i] - dataset[i - 1]\n",
    "\t\tdiff.append(value)\n",
    "\treturn numpy.array(diff)\n",
    " \n",
    "# load dataset\n",
    "series = read_csv('Food_availability.csv', header=0, index_col=0, parse_dates=True, squeeze=True)\n",
    "X = difference(series.values)\n",
    "# fit model\n",
    "model = AutoReg(X, lags=6)\n",
    "model_fit = model.fit()\n",
    "# save model to file\n",
    "model_fit.save('ar_model.pkl')\n",
    "# save the differenced dataset\n",
    "numpy.save('ar_data.npy', X)\n",
    "# save the last ob\n",
    "numpy.save('ar_obs.npy', [series.values[-1]])"
   ]
  },
  {
   "cell_type": "code",
   "execution_count": 44,
   "metadata": {},
   "outputs": [
    {
     "name": "stdout",
     "output_type": "stream",
     "text": [
      "[ 1.88868663e+02 -2.25976215e-01 -7.24770770e-03  3.27995886e-01\n",
      "  8.55155204e-02  5.04066161e-02  8.33342620e-02]\n",
      "[19817.747]\n"
     ]
    }
   ],
   "source": [
    "# load the AR model from file\n",
    "from statsmodels.tsa.ar_model import AutoRegResults\n",
    "import numpy\n",
    "loaded = AutoRegResults.load('ar_model.pkl')\n",
    "print(loaded.params)\n",
    "data = numpy.load('ar_data.npy')\n",
    "last_ob = numpy.load('ar_obs.npy')\n",
    "print(last_ob)"
   ]
  },
  {
   "cell_type": "code",
   "execution_count": 45,
   "metadata": {},
   "outputs": [
    {
     "name": "stderr",
     "output_type": "stream",
     "text": [
      "C:\\Users\\User\\anaconda3\\lib\\site-packages\\statsmodels\\tsa\\ar_model.py:248: FutureWarning: The parameter names will change after 0.12 is released. Set old_names to False to use the new names now. Set old_names to True to use the old names. \n",
      "  warnings.warn(\n"
     ]
    }
   ],
   "source": [
    "# fit an AR model and manually save coefficients to file\n",
    "from pandas import read_csv\n",
    "from statsmodels.tsa.ar_model import AutoReg\n",
    "import numpy\n",
    " \n",
    "# create a difference transform of the dataset\n",
    "def difference(dataset):\n",
    "\tdiff = list()\n",
    "\tfor i in range(1, len(dataset)):\n",
    "\t\tvalue = dataset[i] - dataset[i - 1]\n",
    "\t\tdiff.append(value)\n",
    "\treturn numpy.array(diff)\n",
    " \n",
    "# load dataset\n",
    "series = read_csv('Food_availability.csv', header=0, index_col=0, parse_dates=True, squeeze=True)\n",
    "X = difference(series.values)\n",
    "# fit model\n",
    "window_size = 2\n",
    "model = AutoReg(X, lags=window_size)\n",
    "model_fit = model.fit()\n",
    "# save coefficients\n",
    "coef = model_fit.params\n",
    "numpy.save('man_model.npy', coef)\n",
    "# save lag\n",
    "lag = X[-window_size:]\n",
    "numpy.save('man_data.npy', lag)\n",
    "# save the last ob\n",
    "numpy.save('man_obs.npy', [series.values[-1]])"
   ]
  },
  {
   "cell_type": "code",
   "execution_count": 46,
   "metadata": {},
   "outputs": [
    {
     "name": "stdout",
     "output_type": "stream",
     "text": [
      "[ 4.56777161e+02 -1.54339788e-01 -2.95253590e-02]\n",
      "[-512.055 1332.25 ]\n",
      "[19817.747]\n"
     ]
    }
   ],
   "source": [
    "# load the manually saved model from file\n",
    "import numpy\n",
    "coef = numpy.load('man_model.npy')\n",
    "print(coef)\n",
    "lag = numpy.load('man_data.npy')\n",
    "print(lag)\n",
    "last_ob = numpy.load('man_obs.npy')\n",
    "print(last_ob)"
   ]
  },
  {
   "cell_type": "code",
   "execution_count": 47,
   "metadata": {},
   "outputs": [
    {
     "name": "stdout",
     "output_type": "stream",
     "text": [
      "Prediction: 20011.292508\n"
     ]
    }
   ],
   "source": [
    "# load AR model from file and make a one-step prediction\n",
    "from statsmodels.tsa.ar_model import AutoRegResults\n",
    "import numpy\n",
    "# load model\n",
    "model = AutoRegResults.load('ar_model.pkl')\n",
    "data = numpy.load('ar_data.npy')\n",
    "last_ob = numpy.load('ar_obs.npy')\n",
    "# make prediction\n",
    "predictions = model.predict(start=len(data), end=len(data))\n",
    "# transform prediction\n",
    "yhat = predictions[0] + last_ob[0]\n",
    "print('Prediction: %f' % yhat)"
   ]
  },
  {
   "cell_type": "code",
   "execution_count": 48,
   "metadata": {},
   "outputs": [
    {
     "name": "stdout",
     "output_type": "stream",
     "text": [
      "Prediction: 20084.023587\n"
     ]
    }
   ],
   "source": [
    "# load a coefficients and from file and make a manual prediction\n",
    "import numpy\n",
    " \n",
    "def predict(coef, history):\n",
    "\tyhat = coef[0]\n",
    "\tfor i in range(1, len(coef)):\n",
    "\t\tyhat += coef[i] * history[-i]\n",
    "\treturn yhat\n",
    " \n",
    "# load model\n",
    "coef = numpy.load('man_model.npy')\n",
    "lag = numpy.load('man_data.npy')\n",
    "last_ob = numpy.load('man_obs.npy')\n",
    "# make prediction\n",
    "prediction = predict(coef, lag)\n",
    "# transform prediction\n",
    "yhat = prediction + last_ob[0]\n",
    "print('Prediction: %f' % yhat)"
   ]
  },
  {
   "cell_type": "code",
   "execution_count": 49,
   "metadata": {},
   "outputs": [],
   "source": [
    "# update the data for the AR model with a new obs\n",
    "import numpy\n",
    "# get real observation\n",
    "observation = 48\n",
    "# load the saved data\n",
    "data = numpy.load('ar_data.npy')\n",
    "last_ob = numpy.load('ar_obs.npy')\n",
    "# update and save differenced observation\n",
    "diffed = observation - last_ob[0]\n",
    "data = numpy.append(data, [diffed], axis=0)\n",
    "numpy.save('ar_data.npy', data)\n",
    "# update and save real observation\n",
    "last_ob[0] = observation\n",
    "numpy.save('ar_obs.npy', last_ob)"
   ]
  },
  {
   "cell_type": "code",
   "execution_count": 50,
   "metadata": {},
   "outputs": [],
   "source": [
    "# update the data for the manual model with a new obs\n",
    "import numpy\n",
    "# get real observation\n",
    "observation = 48\n",
    "# update and save differenced observation\n",
    "lag = numpy.load('man_data.npy')\n",
    "last_ob = numpy.load('man_obs.npy')\n",
    "diffed = observation - last_ob[0]\n",
    "lag = numpy.append(lag[1:], [diffed], axis=0)\n",
    "numpy.save('man_data.npy', lag)\n",
    "# update and save real observation\n",
    "last_ob[0] = observation\n",
    "numpy.save('man_obs.npy', last_ob)"
   ]
  },
  {
   "cell_type": "code",
   "execution_count": null,
   "metadata": {},
   "outputs": [],
   "source": []
  },
  {
   "cell_type": "code",
   "execution_count": 53,
   "metadata": {},
   "outputs": [
    {
     "name": "stderr",
     "output_type": "stream",
     "text": [
      "<ipython-input-53-f0d288eae47a>:2: FutureWarning: The pandas.datetime class is deprecated and will be removed from pandas in a future version. Import from datetime module instead.\n",
      "  from pandas import datetime\n"
     ]
    },
    {
     "name": "stdout",
     "output_type": "stream",
     "text": [
      "                               SARIMAX Results                                \n",
      "==============================================================================\n",
      "Dep. Variable:                 Amount   No. Observations:                   34\n",
      "Model:                 ARIMA(5, 1, 0)   Log Likelihood                -276.342\n",
      "Date:                Sat, 30 Apr 2022   AIC                            564.685\n",
      "Time:                        17:25:56   BIC                            573.664\n",
      "Sample:                    01-31-1980   HQIC                           567.706\n",
      "                         - 01-31-2013                                         \n",
      "Covariance Type:                  opg                                         \n",
      "==============================================================================\n",
      "                 coef    std err          z      P>|z|      [0.025      0.975]\n",
      "------------------------------------------------------------------------------\n",
      "ar.L1         -0.0899      0.284     -0.316      0.752      -0.647       0.467\n",
      "ar.L2          0.0092      0.152      0.060      0.952      -0.289       0.308\n",
      "ar.L3          0.2436      0.189      1.288      0.198      -0.127       0.615\n",
      "ar.L4          0.1557      0.235      0.664      0.507      -0.304       0.615\n",
      "ar.L5          0.1498      0.187      0.802      0.422      -0.216       0.516\n",
      "sigma2       1.14e+06   1.92e+05      5.935      0.000    7.64e+05    1.52e+06\n",
      "===================================================================================\n",
      "Ljung-Box (L1) (Q):                   0.42   Jarque-Bera (JB):                30.74\n",
      "Prob(Q):                              0.52   Prob(JB):                         0.00\n",
      "Heteroskedasticity (H):               0.72   Skew:                            -1.17\n",
      "Prob(H) (two-sided):                  0.60   Kurtosis:                         7.11\n",
      "===================================================================================\n",
      "\n",
      "Warnings:\n",
      "[1] Covariance matrix calculated using the outer product of gradients (complex-step).\n"
     ]
    },
    {
     "data": {
      "image/png": "[encoded data removed]",
      "text/plain": [
       "<Figure size 432x288 with 1 Axes>"
      ]
     },
     "metadata": {
      "needs_background": "light"
     },
     "output_type": "display_data"
    },
    {
     "data": {
      "image/png": "[encoded data removed]",
      "text/plain": [
       "<Figure size 432x288 with 1 Axes>"
      ]
     },
     "metadata": {
      "needs_background": "light"
     },
     "output_type": "display_data"
    },
    {
     "name": "stdout",
     "output_type": "stream",
     "text": [
      "                 0\n",
      "count    34.000000\n",
      "mean    370.038137\n",
      "std    1572.281725\n",
      "min   -3664.690702\n",
      "25%    -237.435571\n",
      "50%     243.113005\n",
      "75%     826.403346\n",
      "max    7084.251000\n"
     ]
    }
   ],
   "source": [
    "# fit an ARIMA model and plot residual errors\n",
    "from pandas import datetime\n",
    "from pandas import read_csv\n",
    "from pandas import DataFrame\n",
    "from statsmodels.tsa.arima.model import ARIMA\n",
    "from matplotlib import pyplot\n",
    "# load dataset\n",
    "series = read_csv('Food_availability.csv', header=0, index_col=0, parse_dates=True, squeeze=True)\n",
    "series.index = series.index.to_period('M')\n",
    "# fit model\n",
    "model = ARIMA(series, order=(5,1,0))\n",
    "model_fit = model.fit()\n",
    "# summary of fit model\n",
    "print(model_fit.summary())\n",
    "# line plot of residuals\n",
    "residuals = DataFrame(model_fit.resid)\n",
    "residuals.plot()\n",
    "pyplot.show()\n",
    "# density plot of residuals\n",
    "residuals.plot(kind='kde')\n",
    "pyplot.show()\n",
    "# summary stats of residuals\n",
    "print(residuals.describe())"
   ]
  },
  {
   "cell_type": "code",
   "execution_count": 54,
   "metadata": {},
   "outputs": [
    {
     "name": "stderr",
     "output_type": "stream",
     "text": [
      "<ipython-input-54-8c291988f519>:3: FutureWarning: The pandas.datetime class is deprecated and will be removed from pandas in a future version. Import from datetime module instead.\n",
      "  from pandas import datetime\n"
     ]
    },
    {
     "name": "stdout",
     "output_type": "stream",
     "text": [
      "predicted=18570.517502, expected=14682.896000\n",
      "predicted=14820.293356, expected=15416.441000\n",
      "predicted=14611.661413, expected=17038.522000\n",
      "predicted=16652.638883, expected=15591.447000\n",
      "predicted=15123.519618, expected=16449.752000\n",
      "predicted=15751.545116, expected=17216.969000\n",
      "predicted=17192.853532, expected=17069.987000\n",
      "predicted=17344.078733, expected=17657.946000\n",
      "predicted=17641.873093, expected=18296.147000\n",
      "predicted=18451.733439, expected=18997.552000\n",
      "predicted=19196.877445, expected=18485.497000\n",
      "predicted=18722.274267, expected=19817.747000\n",
      "Test RMSE: 1552.870\n"
     ]
    },
    {
     "data": {
      "image/png": "[encoded data removed]",
      "text/plain": [
       "<Figure size 432x288 with 1 Axes>"
      ]
     },
     "metadata": {
      "needs_background": "light"
     },
     "output_type": "display_data"
    }
   ],
   "source": [
    "# evaluate an ARIMA model using a walk-forward validation\n",
    "from pandas import read_csv\n",
    "from pandas import datetime\n",
    "from matplotlib import pyplot\n",
    "from statsmodels.tsa.arima.model import ARIMA\n",
    "from sklearn.metrics import mean_squared_error\n",
    "from math import sqrt\n",
    "# load dataset\n",
    "series = read_csv('Food_availability.csv', header=0, index_col=0, parse_dates=True, squeeze=True)\n",
    "series.index = series.index.to_period('M')\n",
    "# split into train and test sets\n",
    "X = series.values\n",
    "size = int(len(X) * 0.66)\n",
    "train, test = X[0:size], X[size:len(X)]\n",
    "history = [x for x in train]\n",
    "predictions = list()\n",
    "# walk-forward validation\n",
    "for t in range(len(test)):\n",
    "\tmodel = ARIMA(history, order=(5,1,0))\n",
    "\tmodel_fit = model.fit()\n",
    "\toutput = model_fit.forecast()\n",
    "\tyhat = output[0]\n",
    "\tpredictions.append(yhat)\n",
    "\tobs = test[t]\n",
    "\thistory.append(obs)\n",
    "\tprint('predicted=%f, expected=%f' % (yhat, obs))\n",
    "# evaluate forecasts\n",
    "rmse = sqrt(mean_squared_error(test, predictions))\n",
    "print('Test RMSE: %.3f' % rmse)\n",
    "# plot forecasts against actual outcomes\n",
    "pyplot.plot(test)\n",
    "pyplot.plot(predictions, color='red')\n",
    "pyplot.show()"
   ]
  },
  {
   "cell_type": "code",
   "execution_count": null,
   "metadata": {},
   "outputs": [],
   "source": []
  },
  {
   "cell_type": "code",
   "execution_count": null,
   "metadata": {},
   "outputs": [],
   "source": []
  },
  {
   "cell_type": "code",
   "execution_count": null,
   "metadata": {},
   "outputs": [],
   "source": []
  },
  {
   "cell_type": "code",
   "execution_count": null,
   "metadata": {},
   "outputs": [],
   "source": []
  }
 ],
 "metadata": {
  "kernelspec": {
   "display_name": "Python 3",
   "language": "python",
   "name": "python3"
  },
  "language_info": {
   "codemirror_mode": {
    "name": "ipython",
    "version": 3
   },
   "file_extension": ".py",
   "mimetype": "text/x-python",
   "name": "python",
   "nbconvert_exporter": "python",
   "pygments_lexer": "ipython3",
   "version": "3.8.5"
  }
 },
 "nbformat": 4,
 "nbformat_minor": 4
}

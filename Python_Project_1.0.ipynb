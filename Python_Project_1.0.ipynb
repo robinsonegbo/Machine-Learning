{
 "cells": [
  {
   "cell_type": "code",
   "execution_count": 191,
   "metadata": {},
   "outputs": [],
   "source": [
    "import pandas as pd\n",
    "import numpy as np\n",
    "import matplotlib.pyplot as plt\n",
    "import seaborn as sns"
   ]
  },
  {
   "cell_type": "code",
   "execution_count": 134,
   "metadata": {},
   "outputs": [],
   "source": [
    "data_set = pd.read_excel('data.xlsx')"
   ]
  },
  {
   "cell_type": "code",
   "execution_count": 135,
   "metadata": {},
   "outputs": [
    {
     "data": {
      "text/html": [
       "<div>\n",
       "<style scoped>\n",
       "    .dataframe tbody tr th:only-of-type {\n",
       "        vertical-align: middle;\n",
       "    }\n",
       "\n",
       "    .dataframe tbody tr th {\n",
       "        vertical-align: top;\n",
       "    }\n",
       "\n",
       "    .dataframe thead th {\n",
       "        text-align: right;\n",
       "    }\n",
       "</style>\n",
       "<table border=\"1\" class=\"dataframe\">\n",
       "  <thead>\n",
       "    <tr style=\"text-align: right;\">\n",
       "      <th></th>\n",
       "      <th>Country</th>\n",
       "      <th>Commodity</th>\n",
       "      <th>Item</th>\n",
       "      <th>Unit</th>\n",
       "      <th>Year</th>\n",
       "      <th>Amount</th>\n",
       "    </tr>\n",
       "  </thead>\n",
       "  <tbody>\n",
       "    <tr>\n",
       "      <th>0</th>\n",
       "      <td>Algeria</td>\n",
       "      <td>Total Grains/Cereals</td>\n",
       "      <td>Area Harvested</td>\n",
       "      <td>1000 Ha</td>\n",
       "      <td>1980</td>\n",
       "      <td>3181.38000</td>\n",
       "    </tr>\n",
       "    <tr>\n",
       "      <th>1</th>\n",
       "      <td>Algeria</td>\n",
       "      <td>Total Grains/Cereals</td>\n",
       "      <td>Yield</td>\n",
       "      <td>MT / Ha</td>\n",
       "      <td>1980</td>\n",
       "      <td>0.76026</td>\n",
       "    </tr>\n",
       "    <tr>\n",
       "      <th>2</th>\n",
       "      <td>Algeria</td>\n",
       "      <td>Total Grains/Cereals</td>\n",
       "      <td>Production Quantity</td>\n",
       "      <td>1000 MT</td>\n",
       "      <td>1980</td>\n",
       "      <td>2418.67440</td>\n",
       "    </tr>\n",
       "    <tr>\n",
       "      <th>3</th>\n",
       "      <td>Algeria</td>\n",
       "      <td>Economic Data</td>\n",
       "      <td>Gross Domestic Product, constant prices</td>\n",
       "      <td>Percent change</td>\n",
       "      <td>1980</td>\n",
       "      <td>-5.40000</td>\n",
       "    </tr>\n",
       "    <tr>\n",
       "      <th>4</th>\n",
       "      <td>Algeria</td>\n",
       "      <td>Economic Data</td>\n",
       "      <td>GDP (constant 2005 US$)</td>\n",
       "      <td>Million</td>\n",
       "      <td>1980</td>\n",
       "      <td>50817.86555</td>\n",
       "    </tr>\n",
       "  </tbody>\n",
       "</table>\n",
       "</div>"
      ],
      "text/plain": [
       "   Country             Commodity                                     Item  \\\n",
       "0  Algeria  Total Grains/Cereals                           Area Harvested   \n",
       "1  Algeria  Total Grains/Cereals                                    Yield   \n",
       "2  Algeria  Total Grains/Cereals                      Production Quantity   \n",
       "3  Algeria         Economic Data  Gross Domestic Product, constant prices   \n",
       "4  Algeria         Economic Data                  GDP (constant 2005 US$)   \n",
       "\n",
       "             Unit  Year       Amount  \n",
       "0         1000 Ha  1980   3181.38000  \n",
       "1         MT / Ha  1980      0.76026  \n",
       "2         1000 MT  1980   2418.67440  \n",
       "3  Percent change  1980     -5.40000  \n",
       "4         Million  1980  50817.86555  "
      ]
     },
     "execution_count": 135,
     "metadata": {},
     "output_type": "execute_result"
    }
   ],
   "source": [
    "data_set.head()"
   ]
  },
  {
   "cell_type": "code",
   "execution_count": 136,
   "metadata": {},
   "outputs": [],
   "source": [
    "df= data_set[data_set['Country']== 'Nigeria']"
   ]
  },
  {
   "cell_type": "code",
   "execution_count": 137,
   "metadata": {},
   "outputs": [
    {
     "data": {
      "text/html": [
       "<div>\n",
       "<style scoped>\n",
       "    .dataframe tbody tr th:only-of-type {\n",
       "        vertical-align: middle;\n",
       "    }\n",
       "\n",
       "    .dataframe tbody tr th {\n",
       "        vertical-align: top;\n",
       "    }\n",
       "\n",
       "    .dataframe thead th {\n",
       "        text-align: right;\n",
       "    }\n",
       "</style>\n",
       "<table border=\"1\" class=\"dataframe\">\n",
       "  <thead>\n",
       "    <tr style=\"text-align: right;\">\n",
       "      <th></th>\n",
       "      <th>Country</th>\n",
       "      <th>Commodity</th>\n",
       "      <th>Item</th>\n",
       "      <th>Unit</th>\n",
       "      <th>Year</th>\n",
       "      <th>Amount</th>\n",
       "    </tr>\n",
       "  </thead>\n",
       "  <tbody>\n",
       "    <tr>\n",
       "      <th>44903</th>\n",
       "      <td>Nigeria</td>\n",
       "      <td>Total Grains/Cereals</td>\n",
       "      <td>Area Harvested</td>\n",
       "      <td>1000 Ha</td>\n",
       "      <td>1980</td>\n",
       "      <td>7165.000000</td>\n",
       "    </tr>\n",
       "    <tr>\n",
       "      <th>44904</th>\n",
       "      <td>Nigeria</td>\n",
       "      <td>Total Grains/Cereals</td>\n",
       "      <td>Yield</td>\n",
       "      <td>MT / Ha</td>\n",
       "      <td>1980</td>\n",
       "      <td>1.036292</td>\n",
       "    </tr>\n",
       "    <tr>\n",
       "      <th>44905</th>\n",
       "      <td>Nigeria</td>\n",
       "      <td>Total Grains/Cereals</td>\n",
       "      <td>Production Quantity</td>\n",
       "      <td>1000 MT</td>\n",
       "      <td>1980</td>\n",
       "      <td>7425.030000</td>\n",
       "    </tr>\n",
       "    <tr>\n",
       "      <th>44906</th>\n",
       "      <td>Nigeria</td>\n",
       "      <td>Economic Data</td>\n",
       "      <td>Gross Domestic Product, constant prices</td>\n",
       "      <td>Percent change</td>\n",
       "      <td>1980</td>\n",
       "      <td>2.872000</td>\n",
       "    </tr>\n",
       "    <tr>\n",
       "      <th>44907</th>\n",
       "      <td>Nigeria</td>\n",
       "      <td>Economic Data</td>\n",
       "      <td>GDP (constant 2005 US$)</td>\n",
       "      <td>Million</td>\n",
       "      <td>1980</td>\n",
       "      <td>57031.887210</td>\n",
       "    </tr>\n",
       "  </tbody>\n",
       "</table>\n",
       "</div>"
      ],
      "text/plain": [
       "       Country             Commodity                                     Item  \\\n",
       "44903  Nigeria  Total Grains/Cereals                           Area Harvested   \n",
       "44904  Nigeria  Total Grains/Cereals                                    Yield   \n",
       "44905  Nigeria  Total Grains/Cereals                      Production Quantity   \n",
       "44906  Nigeria         Economic Data  Gross Domestic Product, constant prices   \n",
       "44907  Nigeria         Economic Data                  GDP (constant 2005 US$)   \n",
       "\n",
       "                 Unit  Year        Amount  \n",
       "44903         1000 Ha  1980   7165.000000  \n",
       "44904         MT / Ha  1980      1.036292  \n",
       "44905         1000 MT  1980   7425.030000  \n",
       "44906  Percent change  1980      2.872000  \n",
       "44907         Million  1980  57031.887210  "
      ]
     },
     "execution_count": 137,
     "metadata": {},
     "output_type": "execute_result"
    }
   ],
   "source": [
    "df.head()"
   ]
  },
  {
   "cell_type": "code",
   "execution_count": 138,
   "metadata": {},
   "outputs": [
    {
     "data": {
      "text/plain": [
       "(1246, 6)"
      ]
     },
     "execution_count": 138,
     "metadata": {},
     "output_type": "execute_result"
    }
   ],
   "source": [
    "df.shape"
   ]
  },
  {
   "cell_type": "code",
   "execution_count": 139,
   "metadata": {},
   "outputs": [
    {
     "name": "stdout",
     "output_type": "stream",
     "text": [
      "<class 'pandas.core.frame.DataFrame'>\n",
      "Int64Index: 1246 entries, 44903 to 46148\n",
      "Data columns (total 6 columns):\n",
      " #   Column     Non-Null Count  Dtype  \n",
      "---  ------     --------------  -----  \n",
      " 0   Country    1246 non-null   object \n",
      " 1   Commodity  1246 non-null   object \n",
      " 2   Item       1246 non-null   object \n",
      " 3   Unit       1246 non-null   object \n",
      " 4   Year       1246 non-null   int64  \n",
      " 5   Amount     1246 non-null   float64\n",
      "dtypes: float64(1), int64(1), object(4)\n",
      "memory usage: 68.1+ KB\n"
     ]
    }
   ],
   "source": [
    "df.info()"
   ]
  },
  {
   "cell_type": "code",
   "execution_count": 140,
   "metadata": {},
   "outputs": [
    {
     "data": {
      "text/plain": [
       "0"
      ]
     },
     "execution_count": 140,
     "metadata": {},
     "output_type": "execute_result"
    }
   ],
   "source": [
    "df.isnull().any().sum()"
   ]
  },
  {
   "cell_type": "code",
   "execution_count": 141,
   "metadata": {},
   "outputs": [
    {
     "data": {
      "text/plain": [
       "array(['Total Grains/Cereals', 'Economic Data', 'Population',\n",
       "       'Root Crops (R&T)', 'Total Grains/Cereals and Root Crops (R&T)',\n",
       "       'Other', 'Food Aid'], dtype=object)"
      ]
     },
     "execution_count": 141,
     "metadata": {},
     "output_type": "execute_result"
    }
   ],
   "source": [
    "df['Commodity'].unique()"
   ]
  },
  {
   "cell_type": "code",
   "execution_count": 142,
   "metadata": {},
   "outputs": [
    {
     "data": {
      "text/plain": [
       "array(['Area Harvested', 'Yield', 'Production Quantity',\n",
       "       'Gross Domestic Product, constant prices',\n",
       "       'GDP (constant 2005 US$)',\n",
       "       'Imports of goods and services (constant 2005 US$)',\n",
       "       'Exports of goods and services (constant 2005 US$)',\n",
       "       'WB GDP (constant 2005 US$) / FAO population', 'Import Quantity',\n",
       "       'Import Value', 'Import Unit Value', 'Export Quantity',\n",
       "       'Stock Variation', 'Feed + Seed',\n",
       "       'Waste + Processed + OtherUtilization', 'Food Availability',\n",
       "       'Food Availability per capita', 'Total Population - Both Sexes',\n",
       "       'FAO Conversion Rate for Root Crops from MT to Grain Equiv. MT',\n",
       "       'Waste + Processed + OtherUtilization - Stock Variation',\n",
       "       'Food Supply', 'Cereal Food Aid', 'Total', 'Non-Cereal Food Aid'],\n",
       "      dtype=object)"
      ]
     },
     "execution_count": 142,
     "metadata": {},
     "output_type": "execute_result"
    }
   ],
   "source": [
    "df['Item'].unique()"
   ]
  },
  {
   "cell_type": "code",
   "execution_count": 143,
   "metadata": {},
   "outputs": [],
   "source": [
    "crop_data = df[df[\"Commodity\"].str.contains(\"Root Crops\") | df[\"Commodity\"].str.contains(\"Total Grains/Cereals\")]"
   ]
  },
  {
   "cell_type": "code",
   "execution_count": 144,
   "metadata": {},
   "outputs": [
    {
     "data": {
      "text/html": [
       "<div>\n",
       "<style scoped>\n",
       "    .dataframe tbody tr th:only-of-type {\n",
       "        vertical-align: middle;\n",
       "    }\n",
       "\n",
       "    .dataframe tbody tr th {\n",
       "        vertical-align: top;\n",
       "    }\n",
       "\n",
       "    .dataframe thead th {\n",
       "        text-align: right;\n",
       "    }\n",
       "</style>\n",
       "<table border=\"1\" class=\"dataframe\">\n",
       "  <thead>\n",
       "    <tr style=\"text-align: right;\">\n",
       "      <th></th>\n",
       "      <th>Country</th>\n",
       "      <th>Commodity</th>\n",
       "      <th>Item</th>\n",
       "      <th>Unit</th>\n",
       "      <th>Year</th>\n",
       "      <th>Amount</th>\n",
       "    </tr>\n",
       "  </thead>\n",
       "  <tbody>\n",
       "    <tr>\n",
       "      <th>44903</th>\n",
       "      <td>Nigeria</td>\n",
       "      <td>Total Grains/Cereals</td>\n",
       "      <td>Area Harvested</td>\n",
       "      <td>1000 Ha</td>\n",
       "      <td>1980</td>\n",
       "      <td>7165.000000</td>\n",
       "    </tr>\n",
       "    <tr>\n",
       "      <th>44904</th>\n",
       "      <td>Nigeria</td>\n",
       "      <td>Total Grains/Cereals</td>\n",
       "      <td>Yield</td>\n",
       "      <td>MT / Ha</td>\n",
       "      <td>1980</td>\n",
       "      <td>1.036292</td>\n",
       "    </tr>\n",
       "    <tr>\n",
       "      <th>44905</th>\n",
       "      <td>Nigeria</td>\n",
       "      <td>Total Grains/Cereals</td>\n",
       "      <td>Production Quantity</td>\n",
       "      <td>1000 MT</td>\n",
       "      <td>1980</td>\n",
       "      <td>7425.030000</td>\n",
       "    </tr>\n",
       "    <tr>\n",
       "      <th>44911</th>\n",
       "      <td>Nigeria</td>\n",
       "      <td>Total Grains/Cereals</td>\n",
       "      <td>Import Quantity</td>\n",
       "      <td>1000 MT</td>\n",
       "      <td>1980</td>\n",
       "      <td>1827.600000</td>\n",
       "    </tr>\n",
       "    <tr>\n",
       "      <th>44912</th>\n",
       "      <td>Nigeria</td>\n",
       "      <td>Total Grains/Cereals</td>\n",
       "      <td>Import Value</td>\n",
       "      <td>Million US$</td>\n",
       "      <td>1980</td>\n",
       "      <td>593.850000</td>\n",
       "    </tr>\n",
       "    <tr>\n",
       "      <th>44913</th>\n",
       "      <td>Nigeria</td>\n",
       "      <td>Total Grains/Cereals</td>\n",
       "      <td>Import Unit Value</td>\n",
       "      <td>US$ / MT</td>\n",
       "      <td>1980</td>\n",
       "      <td>324.934340</td>\n",
       "    </tr>\n",
       "    <tr>\n",
       "      <th>44914</th>\n",
       "      <td>Nigeria</td>\n",
       "      <td>Total Grains/Cereals</td>\n",
       "      <td>Export Quantity</td>\n",
       "      <td>1000 MT</td>\n",
       "      <td>1980</td>\n",
       "      <td>0.000000</td>\n",
       "    </tr>\n",
       "    <tr>\n",
       "      <th>44915</th>\n",
       "      <td>Nigeria</td>\n",
       "      <td>Total Grains/Cereals</td>\n",
       "      <td>Stock Variation</td>\n",
       "      <td>1000 MT</td>\n",
       "      <td>1980</td>\n",
       "      <td>12.857000</td>\n",
       "    </tr>\n",
       "    <tr>\n",
       "      <th>44916</th>\n",
       "      <td>Nigeria</td>\n",
       "      <td>Total Grains/Cereals</td>\n",
       "      <td>Feed + Seed</td>\n",
       "      <td>1000 MT</td>\n",
       "      <td>1980</td>\n",
       "      <td>1258.374000</td>\n",
       "    </tr>\n",
       "    <tr>\n",
       "      <th>44917</th>\n",
       "      <td>Nigeria</td>\n",
       "      <td>Total Grains/Cereals</td>\n",
       "      <td>Waste + Processed + OtherUtilization</td>\n",
       "      <td>1000 MT</td>\n",
       "      <td>1980</td>\n",
       "      <td>1100.286000</td>\n",
       "    </tr>\n",
       "    <tr>\n",
       "      <th>44918</th>\n",
       "      <td>Nigeria</td>\n",
       "      <td>Total Grains/Cereals</td>\n",
       "      <td>Food Availability</td>\n",
       "      <td>1000 MT</td>\n",
       "      <td>1980</td>\n",
       "      <td>7084.251000</td>\n",
       "    </tr>\n",
       "    <tr>\n",
       "      <th>44919</th>\n",
       "      <td>Nigeria</td>\n",
       "      <td>Total Grains/Cereals</td>\n",
       "      <td>Food Availability per capita</td>\n",
       "      <td>kg/cap/yr</td>\n",
       "      <td>1980</td>\n",
       "      <td>93.777729</td>\n",
       "    </tr>\n",
       "    <tr>\n",
       "      <th>44921</th>\n",
       "      <td>Nigeria</td>\n",
       "      <td>Root Crops (R&amp;T)</td>\n",
       "      <td>FAO Conversion Rate for Root Crops from MT to ...</td>\n",
       "      <td>Conversion Rate</td>\n",
       "      <td>1980</td>\n",
       "      <td>0.275024</td>\n",
       "    </tr>\n",
       "    <tr>\n",
       "      <th>44922</th>\n",
       "      <td>Nigeria</td>\n",
       "      <td>Root Crops (R&amp;T)</td>\n",
       "      <td>Area Harvested</td>\n",
       "      <td>1000 Ha</td>\n",
       "      <td>1980</td>\n",
       "      <td>1780.500000</td>\n",
       "    </tr>\n",
       "    <tr>\n",
       "      <th>44923</th>\n",
       "      <td>Nigeria</td>\n",
       "      <td>Root Crops (R&amp;T)</td>\n",
       "      <td>Yield</td>\n",
       "      <td>MT / Ha</td>\n",
       "      <td>1980</td>\n",
       "      <td>2.640726</td>\n",
       "    </tr>\n",
       "    <tr>\n",
       "      <th>44924</th>\n",
       "      <td>Nigeria</td>\n",
       "      <td>Root Crops (R&amp;T)</td>\n",
       "      <td>Production Quantity</td>\n",
       "      <td>Grain Equiv. 1000 MT</td>\n",
       "      <td>1980</td>\n",
       "      <td>4701.812753</td>\n",
       "    </tr>\n",
       "    <tr>\n",
       "      <th>44925</th>\n",
       "      <td>Nigeria</td>\n",
       "      <td>Root Crops (R&amp;T)</td>\n",
       "      <td>Import Quantity</td>\n",
       "      <td>Grain Equiv. 1000 MT</td>\n",
       "      <td>1980</td>\n",
       "      <td>0.000000</td>\n",
       "    </tr>\n",
       "    <tr>\n",
       "      <th>44926</th>\n",
       "      <td>Nigeria</td>\n",
       "      <td>Root Crops (R&amp;T)</td>\n",
       "      <td>Export Quantity</td>\n",
       "      <td>Grain Equiv. 1000 MT</td>\n",
       "      <td>1980</td>\n",
       "      <td>0.000000</td>\n",
       "    </tr>\n",
       "    <tr>\n",
       "      <th>44927</th>\n",
       "      <td>Nigeria</td>\n",
       "      <td>Root Crops (R&amp;T)</td>\n",
       "      <td>Stock Variation</td>\n",
       "      <td>Grain Equiv. 1000 MT</td>\n",
       "      <td>1980</td>\n",
       "      <td>0.000000</td>\n",
       "    </tr>\n",
       "    <tr>\n",
       "      <th>44928</th>\n",
       "      <td>Nigeria</td>\n",
       "      <td>Root Crops (R&amp;T)</td>\n",
       "      <td>Feed + Seed</td>\n",
       "      <td>Grain Equiv. 1000 MT</td>\n",
       "      <td>1980</td>\n",
       "      <td>1353.217793</td>\n",
       "    </tr>\n",
       "  </tbody>\n",
       "</table>\n",
       "</div>"
      ],
      "text/plain": [
       "       Country             Commodity  \\\n",
       "44903  Nigeria  Total Grains/Cereals   \n",
       "44904  Nigeria  Total Grains/Cereals   \n",
       "44905  Nigeria  Total Grains/Cereals   \n",
       "44911  Nigeria  Total Grains/Cereals   \n",
       "44912  Nigeria  Total Grains/Cereals   \n",
       "44913  Nigeria  Total Grains/Cereals   \n",
       "44914  Nigeria  Total Grains/Cereals   \n",
       "44915  Nigeria  Total Grains/Cereals   \n",
       "44916  Nigeria  Total Grains/Cereals   \n",
       "44917  Nigeria  Total Grains/Cereals   \n",
       "44918  Nigeria  Total Grains/Cereals   \n",
       "44919  Nigeria  Total Grains/Cereals   \n",
       "44921  Nigeria      Root Crops (R&T)   \n",
       "44922  Nigeria      Root Crops (R&T)   \n",
       "44923  Nigeria      Root Crops (R&T)   \n",
       "44924  Nigeria      Root Crops (R&T)   \n",
       "44925  Nigeria      Root Crops (R&T)   \n",
       "44926  Nigeria      Root Crops (R&T)   \n",
       "44927  Nigeria      Root Crops (R&T)   \n",
       "44928  Nigeria      Root Crops (R&T)   \n",
       "\n",
       "                                                    Item  \\\n",
       "44903                                     Area Harvested   \n",
       "44904                                              Yield   \n",
       "44905                                Production Quantity   \n",
       "44911                                    Import Quantity   \n",
       "44912                                       Import Value   \n",
       "44913                                  Import Unit Value   \n",
       "44914                                    Export Quantity   \n",
       "44915                                    Stock Variation   \n",
       "44916                                        Feed + Seed   \n",
       "44917               Waste + Processed + OtherUtilization   \n",
       "44918                                  Food Availability   \n",
       "44919                       Food Availability per capita   \n",
       "44921  FAO Conversion Rate for Root Crops from MT to ...   \n",
       "44922                                     Area Harvested   \n",
       "44923                                              Yield   \n",
       "44924                                Production Quantity   \n",
       "44925                                    Import Quantity   \n",
       "44926                                    Export Quantity   \n",
       "44927                                    Stock Variation   \n",
       "44928                                        Feed + Seed   \n",
       "\n",
       "                       Unit  Year       Amount  \n",
       "44903               1000 Ha  1980  7165.000000  \n",
       "44904               MT / Ha  1980     1.036292  \n",
       "44905               1000 MT  1980  7425.030000  \n",
       "44911               1000 MT  1980  1827.600000  \n",
       "44912           Million US$  1980   593.850000  \n",
       "44913              US$ / MT  1980   324.934340  \n",
       "44914               1000 MT  1980     0.000000  \n",
       "44915               1000 MT  1980    12.857000  \n",
       "44916               1000 MT  1980  1258.374000  \n",
       "44917               1000 MT  1980  1100.286000  \n",
       "44918               1000 MT  1980  7084.251000  \n",
       "44919             kg/cap/yr  1980    93.777729  \n",
       "44921       Conversion Rate  1980     0.275024  \n",
       "44922               1000 Ha  1980  1780.500000  \n",
       "44923               MT / Ha  1980     2.640726  \n",
       "44924  Grain Equiv. 1000 MT  1980  4701.812753  \n",
       "44925  Grain Equiv. 1000 MT  1980     0.000000  \n",
       "44926  Grain Equiv. 1000 MT  1980     0.000000  \n",
       "44927  Grain Equiv. 1000 MT  1980     0.000000  \n",
       "44928  Grain Equiv. 1000 MT  1980  1353.217793  "
      ]
     },
     "execution_count": 144,
     "metadata": {},
     "output_type": "execute_result"
    }
   ],
   "source": [
    "crop_data.head(20)"
   ]
  },
  {
   "cell_type": "code",
   "execution_count": 145,
   "metadata": {},
   "outputs": [
    {
     "data": {
      "text/html": [
       "<div>\n",
       "<style scoped>\n",
       "    .dataframe tbody tr th:only-of-type {\n",
       "        vertical-align: middle;\n",
       "    }\n",
       "\n",
       "    .dataframe tbody tr th {\n",
       "        vertical-align: top;\n",
       "    }\n",
       "\n",
       "    .dataframe thead th {\n",
       "        text-align: right;\n",
       "    }\n",
       "</style>\n",
       "<table border=\"1\" class=\"dataframe\">\n",
       "  <thead>\n",
       "    <tr style=\"text-align: right;\">\n",
       "      <th></th>\n",
       "      <th>Country</th>\n",
       "      <th>Commodity</th>\n",
       "      <th>Item</th>\n",
       "      <th>Unit</th>\n",
       "      <th>Year</th>\n",
       "      <th>Amount</th>\n",
       "    </tr>\n",
       "  </thead>\n",
       "  <tbody>\n",
       "    <tr>\n",
       "      <th>46139</th>\n",
       "      <td>Nigeria</td>\n",
       "      <td>Total Grains/Cereals</td>\n",
       "      <td>Food Availability per capita</td>\n",
       "      <td>kg/cap/yr</td>\n",
       "      <td>2013</td>\n",
       "      <td>115.960392</td>\n",
       "    </tr>\n",
       "    <tr>\n",
       "      <th>46141</th>\n",
       "      <td>Nigeria</td>\n",
       "      <td>Root Crops (R&amp;T)</td>\n",
       "      <td>FAO Conversion Rate for Root Crops from MT to ...</td>\n",
       "      <td>Conversion Rate</td>\n",
       "      <td>2013</td>\n",
       "      <td>0.292034</td>\n",
       "    </tr>\n",
       "    <tr>\n",
       "      <th>46142</th>\n",
       "      <td>Nigeria</td>\n",
       "      <td>Root Crops (R&amp;T)</td>\n",
       "      <td>Food Availability</td>\n",
       "      <td>Grain Equiv. 1000 MT</td>\n",
       "      <td>2013</td>\n",
       "      <td>0.000000</td>\n",
       "    </tr>\n",
       "    <tr>\n",
       "      <th>46143</th>\n",
       "      <td>Nigeria</td>\n",
       "      <td>Root Crops (R&amp;T)</td>\n",
       "      <td>Food Availability per capita</td>\n",
       "      <td>kg/cap/yr</td>\n",
       "      <td>2013</td>\n",
       "      <td>103.576836</td>\n",
       "    </tr>\n",
       "    <tr>\n",
       "      <th>46144</th>\n",
       "      <td>Nigeria</td>\n",
       "      <td>Total Grains/Cereals and Root Crops (R&amp;T)</td>\n",
       "      <td>Production Quantity</td>\n",
       "      <td>Grain Equiv. 1000 MT</td>\n",
       "      <td>2013</td>\n",
       "      <td>21313.000000</td>\n",
       "    </tr>\n",
       "    <tr>\n",
       "      <th>46145</th>\n",
       "      <td>Nigeria</td>\n",
       "      <td>Total Grains/Cereals and Root Crops (R&amp;T)</td>\n",
       "      <td>Food Availability per capita</td>\n",
       "      <td>kg/cap/yr</td>\n",
       "      <td>2013</td>\n",
       "      <td>219.537228</td>\n",
       "    </tr>\n",
       "    <tr>\n",
       "      <th>46146</th>\n",
       "      <td>Nigeria</td>\n",
       "      <td>Total Grains/Cereals and Root Crops (R&amp;T)</td>\n",
       "      <td>Food Supply</td>\n",
       "      <td>Grain Equiv. 1000 MT</td>\n",
       "      <td>2013</td>\n",
       "      <td>28233.000000</td>\n",
       "    </tr>\n",
       "  </tbody>\n",
       "</table>\n",
       "</div>"
      ],
      "text/plain": [
       "       Country                                  Commodity  \\\n",
       "46139  Nigeria                       Total Grains/Cereals   \n",
       "46141  Nigeria                           Root Crops (R&T)   \n",
       "46142  Nigeria                           Root Crops (R&T)   \n",
       "46143  Nigeria                           Root Crops (R&T)   \n",
       "46144  Nigeria  Total Grains/Cereals and Root Crops (R&T)   \n",
       "46145  Nigeria  Total Grains/Cereals and Root Crops (R&T)   \n",
       "46146  Nigeria  Total Grains/Cereals and Root Crops (R&T)   \n",
       "\n",
       "                                                    Item  \\\n",
       "46139                       Food Availability per capita   \n",
       "46141  FAO Conversion Rate for Root Crops from MT to ...   \n",
       "46142                                  Food Availability   \n",
       "46143                       Food Availability per capita   \n",
       "46144                                Production Quantity   \n",
       "46145                       Food Availability per capita   \n",
       "46146                                        Food Supply   \n",
       "\n",
       "                       Unit  Year        Amount  \n",
       "46139             kg/cap/yr  2013    115.960392  \n",
       "46141       Conversion Rate  2013      0.292034  \n",
       "46142  Grain Equiv. 1000 MT  2013      0.000000  \n",
       "46143             kg/cap/yr  2013    103.576836  \n",
       "46144  Grain Equiv. 1000 MT  2013  21313.000000  \n",
       "46145             kg/cap/yr  2013    219.537228  \n",
       "46146  Grain Equiv. 1000 MT  2013  28233.000000  "
      ]
     },
     "execution_count": 145,
     "metadata": {},
     "output_type": "execute_result"
    }
   ],
   "source": [
    "crop_data.tail(7)"
   ]
  },
  {
   "cell_type": "code",
   "execution_count": 146,
   "metadata": {},
   "outputs": [],
   "source": [
    "Yield = crop_data[crop_data['Item']== 'Yield']"
   ]
  },
  {
   "cell_type": "code",
   "execution_count": 147,
   "metadata": {},
   "outputs": [
    {
     "data": {
      "text/html": [
       "<div>\n",
       "<style scoped>\n",
       "    .dataframe tbody tr th:only-of-type {\n",
       "        vertical-align: middle;\n",
       "    }\n",
       "\n",
       "    .dataframe tbody tr th {\n",
       "        vertical-align: top;\n",
       "    }\n",
       "\n",
       "    .dataframe thead th {\n",
       "        text-align: right;\n",
       "    }\n",
       "</style>\n",
       "<table border=\"1\" class=\"dataframe\">\n",
       "  <thead>\n",
       "    <tr style=\"text-align: right;\">\n",
       "      <th></th>\n",
       "      <th>Country</th>\n",
       "      <th>Commodity</th>\n",
       "      <th>Item</th>\n",
       "      <th>Unit</th>\n",
       "      <th>Year</th>\n",
       "      <th>Amount</th>\n",
       "    </tr>\n",
       "  </thead>\n",
       "  <tbody>\n",
       "    <tr>\n",
       "      <th>44904</th>\n",
       "      <td>Nigeria</td>\n",
       "      <td>Total Grains/Cereals</td>\n",
       "      <td>Yield</td>\n",
       "      <td>MT / Ha</td>\n",
       "      <td>1980</td>\n",
       "      <td>1.036292</td>\n",
       "    </tr>\n",
       "    <tr>\n",
       "      <th>44923</th>\n",
       "      <td>Nigeria</td>\n",
       "      <td>Root Crops (R&amp;T)</td>\n",
       "      <td>Yield</td>\n",
       "      <td>MT / Ha</td>\n",
       "      <td>1980</td>\n",
       "      <td>2.640726</td>\n",
       "    </tr>\n",
       "    <tr>\n",
       "      <th>44939</th>\n",
       "      <td>Nigeria</td>\n",
       "      <td>Total Grains/Cereals</td>\n",
       "      <td>Yield</td>\n",
       "      <td>MT / Ha</td>\n",
       "      <td>1981</td>\n",
       "      <td>1.570510</td>\n",
       "    </tr>\n",
       "    <tr>\n",
       "      <th>44958</th>\n",
       "      <td>Nigeria</td>\n",
       "      <td>Root Crops (R&amp;T)</td>\n",
       "      <td>Yield</td>\n",
       "      <td>MT / Ha</td>\n",
       "      <td>1981</td>\n",
       "      <td>2.036002</td>\n",
       "    </tr>\n",
       "    <tr>\n",
       "      <th>44974</th>\n",
       "      <td>Nigeria</td>\n",
       "      <td>Total Grains/Cereals</td>\n",
       "      <td>Yield</td>\n",
       "      <td>MT / Ha</td>\n",
       "      <td>1982</td>\n",
       "      <td>1.552594</td>\n",
       "    </tr>\n",
       "  </tbody>\n",
       "</table>\n",
       "</div>"
      ],
      "text/plain": [
       "       Country             Commodity   Item     Unit  Year    Amount\n",
       "44904  Nigeria  Total Grains/Cereals  Yield  MT / Ha  1980  1.036292\n",
       "44923  Nigeria      Root Crops (R&T)  Yield  MT / Ha  1980  2.640726\n",
       "44939  Nigeria  Total Grains/Cereals  Yield  MT / Ha  1981  1.570510\n",
       "44958  Nigeria      Root Crops (R&T)  Yield  MT / Ha  1981  2.036002\n",
       "44974  Nigeria  Total Grains/Cereals  Yield  MT / Ha  1982  1.552594"
      ]
     },
     "execution_count": 147,
     "metadata": {},
     "output_type": "execute_result"
    }
   ],
   "source": [
    "Yield.head()"
   ]
  },
  {
   "cell_type": "code",
   "execution_count": 148,
   "metadata": {},
   "outputs": [
    {
     "data": {
      "text/html": [
       "<div>\n",
       "<style scoped>\n",
       "    .dataframe tbody tr th:only-of-type {\n",
       "        vertical-align: middle;\n",
       "    }\n",
       "\n",
       "    .dataframe tbody tr th {\n",
       "        vertical-align: top;\n",
       "    }\n",
       "\n",
       "    .dataframe thead th {\n",
       "        text-align: right;\n",
       "    }\n",
       "</style>\n",
       "<table border=\"1\" class=\"dataframe\">\n",
       "  <thead>\n",
       "    <tr style=\"text-align: right;\">\n",
       "      <th></th>\n",
       "      <th>Amount</th>\n",
       "    </tr>\n",
       "  </thead>\n",
       "  <tbody>\n",
       "    <tr>\n",
       "      <th>count</th>\n",
       "      <td>66.000000</td>\n",
       "    </tr>\n",
       "    <tr>\n",
       "      <th>mean</th>\n",
       "      <td>1.897042</td>\n",
       "    </tr>\n",
       "    <tr>\n",
       "      <th>std</th>\n",
       "      <td>0.828786</td>\n",
       "    </tr>\n",
       "    <tr>\n",
       "      <th>min</th>\n",
       "      <td>0.816755</td>\n",
       "    </tr>\n",
       "    <tr>\n",
       "      <th>25%</th>\n",
       "      <td>1.092506</td>\n",
       "    </tr>\n",
       "    <tr>\n",
       "      <th>50%</th>\n",
       "      <td>1.789180</td>\n",
       "    </tr>\n",
       "    <tr>\n",
       "      <th>75%</th>\n",
       "      <td>2.731821</td>\n",
       "    </tr>\n",
       "    <tr>\n",
       "      <th>max</th>\n",
       "      <td>3.362137</td>\n",
       "    </tr>\n",
       "  </tbody>\n",
       "</table>\n",
       "</div>"
      ],
      "text/plain": [
       "          Amount\n",
       "count  66.000000\n",
       "mean    1.897042\n",
       "std     0.828786\n",
       "min     0.816755\n",
       "25%     1.092506\n",
       "50%     1.789180\n",
       "75%     2.731821\n",
       "max     3.362137"
      ]
     },
     "execution_count": 148,
     "metadata": {},
     "output_type": "execute_result"
    }
   ],
   "source": [
    "crop_data[crop_data['Item']== 'Yield'].describe(include = [float])"
   ]
  },
  {
   "cell_type": "code",
   "execution_count": 149,
   "metadata": {},
   "outputs": [],
   "source": [
    "Total_population = df[df['Commodity']== 'Population']"
   ]
  },
  {
   "cell_type": "code",
   "execution_count": 150,
   "metadata": {},
   "outputs": [
    {
     "data": {
      "text/html": [
       "<div>\n",
       "<style scoped>\n",
       "    .dataframe tbody tr th:only-of-type {\n",
       "        vertical-align: middle;\n",
       "    }\n",
       "\n",
       "    .dataframe tbody tr th {\n",
       "        vertical-align: top;\n",
       "    }\n",
       "\n",
       "    .dataframe thead th {\n",
       "        text-align: right;\n",
       "    }\n",
       "</style>\n",
       "<table border=\"1\" class=\"dataframe\">\n",
       "  <thead>\n",
       "    <tr style=\"text-align: right;\">\n",
       "      <th></th>\n",
       "      <th>Country</th>\n",
       "      <th>Commodity</th>\n",
       "      <th>Item</th>\n",
       "      <th>Unit</th>\n",
       "      <th>Year</th>\n",
       "      <th>Amount</th>\n",
       "    </tr>\n",
       "  </thead>\n",
       "  <tbody>\n",
       "    <tr>\n",
       "      <th>44920</th>\n",
       "      <td>Nigeria</td>\n",
       "      <td>Population</td>\n",
       "      <td>Total Population - Both Sexes</td>\n",
       "      <td>Million</td>\n",
       "      <td>1980</td>\n",
       "      <td>75.543</td>\n",
       "    </tr>\n",
       "    <tr>\n",
       "      <th>44955</th>\n",
       "      <td>Nigeria</td>\n",
       "      <td>Population</td>\n",
       "      <td>Total Population - Both Sexes</td>\n",
       "      <td>Million</td>\n",
       "      <td>1981</td>\n",
       "      <td>77.604</td>\n",
       "    </tr>\n",
       "    <tr>\n",
       "      <th>44990</th>\n",
       "      <td>Nigeria</td>\n",
       "      <td>Population</td>\n",
       "      <td>Total Population - Both Sexes</td>\n",
       "      <td>Million</td>\n",
       "      <td>1982</td>\n",
       "      <td>79.624</td>\n",
       "    </tr>\n",
       "    <tr>\n",
       "      <th>45025</th>\n",
       "      <td>Nigeria</td>\n",
       "      <td>Population</td>\n",
       "      <td>Total Population - Both Sexes</td>\n",
       "      <td>Million</td>\n",
       "      <td>1983</td>\n",
       "      <td>81.636</td>\n",
       "    </tr>\n",
       "    <tr>\n",
       "      <th>45060</th>\n",
       "      <td>Nigeria</td>\n",
       "      <td>Population</td>\n",
       "      <td>Total Population - Both Sexes</td>\n",
       "      <td>Million</td>\n",
       "      <td>1984</td>\n",
       "      <td>83.692</td>\n",
       "    </tr>\n",
       "  </tbody>\n",
       "</table>\n",
       "</div>"
      ],
      "text/plain": [
       "       Country   Commodity                           Item     Unit  Year  \\\n",
       "44920  Nigeria  Population  Total Population - Both Sexes  Million  1980   \n",
       "44955  Nigeria  Population  Total Population - Both Sexes  Million  1981   \n",
       "44990  Nigeria  Population  Total Population - Both Sexes  Million  1982   \n",
       "45025  Nigeria  Population  Total Population - Both Sexes  Million  1983   \n",
       "45060  Nigeria  Population  Total Population - Both Sexes  Million  1984   \n",
       "\n",
       "       Amount  \n",
       "44920  75.543  \n",
       "44955  77.604  \n",
       "44990  79.624  \n",
       "45025  81.636  \n",
       "45060  83.692  "
      ]
     },
     "execution_count": 150,
     "metadata": {},
     "output_type": "execute_result"
    }
   ],
   "source": [
    "Total_population.head()"
   ]
  },
  {
   "cell_type": "code",
   "execution_count": 151,
   "metadata": {},
   "outputs": [
    {
     "data": {
      "text/html": [
       "<div>\n",
       "<style scoped>\n",
       "    .dataframe tbody tr th:only-of-type {\n",
       "        vertical-align: middle;\n",
       "    }\n",
       "\n",
       "    .dataframe tbody tr th {\n",
       "        vertical-align: top;\n",
       "    }\n",
       "\n",
       "    .dataframe thead th {\n",
       "        text-align: right;\n",
       "    }\n",
       "</style>\n",
       "<table border=\"1\" class=\"dataframe\">\n",
       "  <thead>\n",
       "    <tr style=\"text-align: right;\">\n",
       "      <th></th>\n",
       "      <th>Amount</th>\n",
       "    </tr>\n",
       "  </thead>\n",
       "  <tbody>\n",
       "    <tr>\n",
       "      <th>count</th>\n",
       "      <td>34.000000</td>\n",
       "    </tr>\n",
       "    <tr>\n",
       "      <th>mean</th>\n",
       "      <td>117.136265</td>\n",
       "    </tr>\n",
       "    <tr>\n",
       "      <th>std</th>\n",
       "      <td>28.367711</td>\n",
       "    </tr>\n",
       "    <tr>\n",
       "      <th>min</th>\n",
       "      <td>75.543000</td>\n",
       "    </tr>\n",
       "    <tr>\n",
       "      <th>25%</th>\n",
       "      <td>93.331500</td>\n",
       "    </tr>\n",
       "    <tr>\n",
       "      <th>50%</th>\n",
       "      <td>113.943500</td>\n",
       "    </tr>\n",
       "    <tr>\n",
       "      <th>75%</th>\n",
       "      <td>138.967000</td>\n",
       "    </tr>\n",
       "    <tr>\n",
       "      <th>max</th>\n",
       "      <td>170.901000</td>\n",
       "    </tr>\n",
       "  </tbody>\n",
       "</table>\n",
       "</div>"
      ],
      "text/plain": [
       "           Amount\n",
       "count   34.000000\n",
       "mean   117.136265\n",
       "std     28.367711\n",
       "min     75.543000\n",
       "25%     93.331500\n",
       "50%    113.943500\n",
       "75%    138.967000\n",
       "max    170.901000"
      ]
     },
     "execution_count": 151,
     "metadata": {},
     "output_type": "execute_result"
    }
   ],
   "source": [
    "Total_population.describe(include = [float])"
   ]
  },
  {
   "cell_type": "code",
   "execution_count": 152,
   "metadata": {},
   "outputs": [
    {
     "data": {
      "image/png": "[encoded data removed]",
      "text/plain": [
       "<Figure size 720x504 with 1 Axes>"
      ]
     },
     "metadata": {
      "needs_background": "light"
     },
     "output_type": "display_data"
    }
   ],
   "source": [
    "x = Yield['Year']\n",
    "y = Yield['Amount']\n",
    "fig = plt.figure(figsize =(10,7))\n",
    "plt.bar(x, y)\n",
    "plt.show()"
   ]
  },
  {
   "cell_type": "code",
   "execution_count": 153,
   "metadata": {},
   "outputs": [
    {
     "data": {
      "image/png": "[encoded data removed]",
      "text/plain": [
       "<Figure size 720x504 with 1 Axes>"
      ]
     },
     "metadata": {
      "needs_background": "light"
     },
     "output_type": "display_data"
    }
   ],
   "source": [
    "x = Total_population['Year']\n",
    "y = Total_population['Amount']\n",
    "fig = plt.figure(figsize =(10,7))\n",
    "plt.bar(x, y)\n",
    "plt.show()"
   ]
  },
  {
   "cell_type": "code",
   "execution_count": 154,
   "metadata": {},
   "outputs": [],
   "source": [
    "Economics = df[df[\"Commodity\"].str.contains(\"Economic Data\")]"
   ]
  },
  {
   "cell_type": "code",
   "execution_count": 155,
   "metadata": {},
   "outputs": [
    {
     "data": {
      "text/html": [
       "<div>\n",
       "<style scoped>\n",
       "    .dataframe tbody tr th:only-of-type {\n",
       "        vertical-align: middle;\n",
       "    }\n",
       "\n",
       "    .dataframe tbody tr th {\n",
       "        vertical-align: top;\n",
       "    }\n",
       "\n",
       "    .dataframe thead th {\n",
       "        text-align: right;\n",
       "    }\n",
       "</style>\n",
       "<table border=\"1\" class=\"dataframe\">\n",
       "  <thead>\n",
       "    <tr style=\"text-align: right;\">\n",
       "      <th></th>\n",
       "      <th>Country</th>\n",
       "      <th>Commodity</th>\n",
       "      <th>Item</th>\n",
       "      <th>Unit</th>\n",
       "      <th>Year</th>\n",
       "      <th>Amount</th>\n",
       "    </tr>\n",
       "  </thead>\n",
       "  <tbody>\n",
       "    <tr>\n",
       "      <th>44906</th>\n",
       "      <td>Nigeria</td>\n",
       "      <td>Economic Data</td>\n",
       "      <td>Gross Domestic Product, constant prices</td>\n",
       "      <td>Percent change</td>\n",
       "      <td>1980</td>\n",
       "      <td>2.872000</td>\n",
       "    </tr>\n",
       "    <tr>\n",
       "      <th>44907</th>\n",
       "      <td>Nigeria</td>\n",
       "      <td>Economic Data</td>\n",
       "      <td>GDP (constant 2005 US$)</td>\n",
       "      <td>Million</td>\n",
       "      <td>1980</td>\n",
       "      <td>57031.887210</td>\n",
       "    </tr>\n",
       "    <tr>\n",
       "      <th>44908</th>\n",
       "      <td>Nigeria</td>\n",
       "      <td>Economic Data</td>\n",
       "      <td>Imports of goods and services (constant 2005 US$)</td>\n",
       "      <td>Million</td>\n",
       "      <td>1980</td>\n",
       "      <td>10947.920830</td>\n",
       "    </tr>\n",
       "    <tr>\n",
       "      <th>44909</th>\n",
       "      <td>Nigeria</td>\n",
       "      <td>Economic Data</td>\n",
       "      <td>Exports of goods and services (constant 2005 US$)</td>\n",
       "      <td>Million</td>\n",
       "      <td>1980</td>\n",
       "      <td>16753.216370</td>\n",
       "    </tr>\n",
       "    <tr>\n",
       "      <th>44910</th>\n",
       "      <td>Nigeria</td>\n",
       "      <td>Economic Data</td>\n",
       "      <td>WB GDP (constant 2005 US$) / FAO population</td>\n",
       "      <td>$/Person</td>\n",
       "      <td>1980</td>\n",
       "      <td>754.959258</td>\n",
       "    </tr>\n",
       "  </tbody>\n",
       "</table>\n",
       "</div>"
      ],
      "text/plain": [
       "       Country      Commodity  \\\n",
       "44906  Nigeria  Economic Data   \n",
       "44907  Nigeria  Economic Data   \n",
       "44908  Nigeria  Economic Data   \n",
       "44909  Nigeria  Economic Data   \n",
       "44910  Nigeria  Economic Data   \n",
       "\n",
       "                                                    Item            Unit  \\\n",
       "44906            Gross Domestic Product, constant prices  Percent change   \n",
       "44907                            GDP (constant 2005 US$)         Million   \n",
       "44908  Imports of goods and services (constant 2005 US$)         Million   \n",
       "44909  Exports of goods and services (constant 2005 US$)         Million   \n",
       "44910        WB GDP (constant 2005 US$) / FAO population        $/Person   \n",
       "\n",
       "       Year        Amount  \n",
       "44906  1980      2.872000  \n",
       "44907  1980  57031.887210  \n",
       "44908  1980  10947.920830  \n",
       "44909  1980  16753.216370  \n",
       "44910  1980    754.959258  "
      ]
     },
     "execution_count": 155,
     "metadata": {},
     "output_type": "execute_result"
    }
   ],
   "source": [
    "Economics.head()"
   ]
  },
  {
   "cell_type": "code",
   "execution_count": 156,
   "metadata": {},
   "outputs": [],
   "source": [
    "GDP = Economics[Economics['Item']== 'GDP (constant 2005 US$)']"
   ]
  },
  {
   "cell_type": "code",
   "execution_count": 157,
   "metadata": {},
   "outputs": [
    {
     "data": {
      "text/html": [
       "<div>\n",
       "<style scoped>\n",
       "    .dataframe tbody tr th:only-of-type {\n",
       "        vertical-align: middle;\n",
       "    }\n",
       "\n",
       "    .dataframe tbody tr th {\n",
       "        vertical-align: top;\n",
       "    }\n",
       "\n",
       "    .dataframe thead th {\n",
       "        text-align: right;\n",
       "    }\n",
       "</style>\n",
       "<table border=\"1\" class=\"dataframe\">\n",
       "  <thead>\n",
       "    <tr style=\"text-align: right;\">\n",
       "      <th></th>\n",
       "      <th>Country</th>\n",
       "      <th>Commodity</th>\n",
       "      <th>Item</th>\n",
       "      <th>Unit</th>\n",
       "      <th>Year</th>\n",
       "      <th>Amount</th>\n",
       "    </tr>\n",
       "  </thead>\n",
       "  <tbody>\n",
       "    <tr>\n",
       "      <th>44907</th>\n",
       "      <td>Nigeria</td>\n",
       "      <td>Economic Data</td>\n",
       "      <td>GDP (constant 2005 US$)</td>\n",
       "      <td>Million</td>\n",
       "      <td>1980</td>\n",
       "      <td>57031.88721</td>\n",
       "    </tr>\n",
       "    <tr>\n",
       "      <th>44942</th>\n",
       "      <td>Nigeria</td>\n",
       "      <td>Economic Data</td>\n",
       "      <td>GDP (constant 2005 US$)</td>\n",
       "      <td>Million</td>\n",
       "      <td>1981</td>\n",
       "      <td>49544.80922</td>\n",
       "    </tr>\n",
       "    <tr>\n",
       "      <th>44977</th>\n",
       "      <td>Nigeria</td>\n",
       "      <td>Economic Data</td>\n",
       "      <td>GDP (constant 2005 US$)</td>\n",
       "      <td>Million</td>\n",
       "      <td>1982</td>\n",
       "      <td>49428.52987</td>\n",
       "    </tr>\n",
       "    <tr>\n",
       "      <th>45012</th>\n",
       "      <td>Nigeria</td>\n",
       "      <td>Economic Data</td>\n",
       "      <td>GDP (constant 2005 US$)</td>\n",
       "      <td>Million</td>\n",
       "      <td>1983</td>\n",
       "      <td>46811.54405</td>\n",
       "    </tr>\n",
       "    <tr>\n",
       "      <th>45047</th>\n",
       "      <td>Nigeria</td>\n",
       "      <td>Economic Data</td>\n",
       "      <td>GDP (constant 2005 US$)</td>\n",
       "      <td>Million</td>\n",
       "      <td>1984</td>\n",
       "      <td>44556.00488</td>\n",
       "    </tr>\n",
       "  </tbody>\n",
       "</table>\n",
       "</div>"
      ],
      "text/plain": [
       "       Country      Commodity                     Item     Unit  Year  \\\n",
       "44907  Nigeria  Economic Data  GDP (constant 2005 US$)  Million  1980   \n",
       "44942  Nigeria  Economic Data  GDP (constant 2005 US$)  Million  1981   \n",
       "44977  Nigeria  Economic Data  GDP (constant 2005 US$)  Million  1982   \n",
       "45012  Nigeria  Economic Data  GDP (constant 2005 US$)  Million  1983   \n",
       "45047  Nigeria  Economic Data  GDP (constant 2005 US$)  Million  1984   \n",
       "\n",
       "            Amount  \n",
       "44907  57031.88721  \n",
       "44942  49544.80922  \n",
       "44977  49428.52987  \n",
       "45012  46811.54405  \n",
       "45047  44556.00488  "
      ]
     },
     "execution_count": 157,
     "metadata": {},
     "output_type": "execute_result"
    }
   ],
   "source": [
    "GDP.head()"
   ]
  },
  {
   "cell_type": "code",
   "execution_count": 158,
   "metadata": {},
   "outputs": [
    {
     "data": {
      "text/html": [
       "<div>\n",
       "<style scoped>\n",
       "    .dataframe tbody tr th:only-of-type {\n",
       "        vertical-align: middle;\n",
       "    }\n",
       "\n",
       "    .dataframe tbody tr th {\n",
       "        vertical-align: top;\n",
       "    }\n",
       "\n",
       "    .dataframe thead th {\n",
       "        text-align: right;\n",
       "    }\n",
       "</style>\n",
       "<table border=\"1\" class=\"dataframe\">\n",
       "  <thead>\n",
       "    <tr style=\"text-align: right;\">\n",
       "      <th></th>\n",
       "      <th>Amount</th>\n",
       "    </tr>\n",
       "  </thead>\n",
       "  <tbody>\n",
       "    <tr>\n",
       "      <th>count</th>\n",
       "      <td>33.000000</td>\n",
       "    </tr>\n",
       "    <tr>\n",
       "      <th>mean</th>\n",
       "      <td>85698.565307</td>\n",
       "    </tr>\n",
       "    <tr>\n",
       "      <th>std</th>\n",
       "      <td>37332.423357</td>\n",
       "    </tr>\n",
       "    <tr>\n",
       "      <th>min</th>\n",
       "      <td>44556.004880</td>\n",
       "    </tr>\n",
       "    <tr>\n",
       "      <th>25%</th>\n",
       "      <td>57031.887210</td>\n",
       "    </tr>\n",
       "    <tr>\n",
       "      <th>50%</th>\n",
       "      <td>74786.680510</td>\n",
       "    </tr>\n",
       "    <tr>\n",
       "      <th>75%</th>\n",
       "      <td>106497.461700</td>\n",
       "    </tr>\n",
       "    <tr>\n",
       "      <th>max</th>\n",
       "      <td>177803.442200</td>\n",
       "    </tr>\n",
       "  </tbody>\n",
       "</table>\n",
       "</div>"
      ],
      "text/plain": [
       "              Amount\n",
       "count      33.000000\n",
       "mean    85698.565307\n",
       "std     37332.423357\n",
       "min     44556.004880\n",
       "25%     57031.887210\n",
       "50%     74786.680510\n",
       "75%    106497.461700\n",
       "max    177803.442200"
      ]
     },
     "execution_count": 158,
     "metadata": {},
     "output_type": "execute_result"
    }
   ],
   "source": [
    "GDP.describe(include = [float])"
   ]
  },
  {
   "cell_type": "code",
   "execution_count": 159,
   "metadata": {},
   "outputs": [
    {
     "data": {
      "image/png": "[encoded data removed]",
      "text/plain": [
       "<Figure size 720x504 with 1 Axes>"
      ]
     },
     "metadata": {
      "needs_background": "light"
     },
     "output_type": "display_data"
    }
   ],
   "source": [
    "x = GDP['Year']\n",
    "y = GDP['Amount']\n",
    "fig = plt.figure(figsize =(10,7))\n",
    "plt.bar(x, y)\n",
    "plt.show()"
   ]
  },
  {
   "cell_type": "code",
   "execution_count": 160,
   "metadata": {},
   "outputs": [],
   "source": [
    "Food_availability_both = crop_data[crop_data['Item']== 'Food Availability']"
   ]
  },
  {
   "cell_type": "code",
   "execution_count": 161,
   "metadata": {},
   "outputs": [],
   "source": [
    "Food_availability = Food_availability_both[Food_availability_both['Unit']== '1000 MT']"
   ]
  },
  {
   "cell_type": "markdown",
   "metadata": {},
   "source": []
  },
  {
   "cell_type": "code",
   "execution_count": 162,
   "metadata": {},
   "outputs": [
    {
     "data": {
      "text/html": [
       "<div>\n",
       "<style scoped>\n",
       "    .dataframe tbody tr th:only-of-type {\n",
       "        vertical-align: middle;\n",
       "    }\n",
       "\n",
       "    .dataframe tbody tr th {\n",
       "        vertical-align: top;\n",
       "    }\n",
       "\n",
       "    .dataframe thead th {\n",
       "        text-align: right;\n",
       "    }\n",
       "</style>\n",
       "<table border=\"1\" class=\"dataframe\">\n",
       "  <thead>\n",
       "    <tr style=\"text-align: right;\">\n",
       "      <th></th>\n",
       "      <th>Country</th>\n",
       "      <th>Commodity</th>\n",
       "      <th>Item</th>\n",
       "      <th>Unit</th>\n",
       "      <th>Year</th>\n",
       "      <th>Amount</th>\n",
       "    </tr>\n",
       "  </thead>\n",
       "  <tbody>\n",
       "    <tr>\n",
       "      <th>44918</th>\n",
       "      <td>Nigeria</td>\n",
       "      <td>Total Grains/Cereals</td>\n",
       "      <td>Food Availability</td>\n",
       "      <td>1000 MT</td>\n",
       "      <td>1980</td>\n",
       "      <td>7084.251</td>\n",
       "    </tr>\n",
       "    <tr>\n",
       "      <th>44953</th>\n",
       "      <td>Nigeria</td>\n",
       "      <td>Total Grains/Cereals</td>\n",
       "      <td>Food Availability</td>\n",
       "      <td>1000 MT</td>\n",
       "      <td>1981</td>\n",
       "      <td>7579.453</td>\n",
       "    </tr>\n",
       "    <tr>\n",
       "      <th>44988</th>\n",
       "      <td>Nigeria</td>\n",
       "      <td>Total Grains/Cereals</td>\n",
       "      <td>Food Availability</td>\n",
       "      <td>1000 MT</td>\n",
       "      <td>1982</td>\n",
       "      <td>7692.636</td>\n",
       "    </tr>\n",
       "    <tr>\n",
       "      <th>45023</th>\n",
       "      <td>Nigeria</td>\n",
       "      <td>Total Grains/Cereals</td>\n",
       "      <td>Food Availability</td>\n",
       "      <td>1000 MT</td>\n",
       "      <td>1983</td>\n",
       "      <td>7335.107</td>\n",
       "    </tr>\n",
       "    <tr>\n",
       "      <th>45058</th>\n",
       "      <td>Nigeria</td>\n",
       "      <td>Total Grains/Cereals</td>\n",
       "      <td>Food Availability</td>\n",
       "      <td>1000 MT</td>\n",
       "      <td>1984</td>\n",
       "      <td>8524.863</td>\n",
       "    </tr>\n",
       "  </tbody>\n",
       "</table>\n",
       "</div>"
      ],
      "text/plain": [
       "       Country             Commodity               Item     Unit  Year  \\\n",
       "44918  Nigeria  Total Grains/Cereals  Food Availability  1000 MT  1980   \n",
       "44953  Nigeria  Total Grains/Cereals  Food Availability  1000 MT  1981   \n",
       "44988  Nigeria  Total Grains/Cereals  Food Availability  1000 MT  1982   \n",
       "45023  Nigeria  Total Grains/Cereals  Food Availability  1000 MT  1983   \n",
       "45058  Nigeria  Total Grains/Cereals  Food Availability  1000 MT  1984   \n",
       "\n",
       "         Amount  \n",
       "44918  7084.251  \n",
       "44953  7579.453  \n",
       "44988  7692.636  \n",
       "45023  7335.107  \n",
       "45058  8524.863  "
      ]
     },
     "execution_count": 162,
     "metadata": {},
     "output_type": "execute_result"
    }
   ],
   "source": [
    "Food_availability.head()"
   ]
  },
  {
   "cell_type": "code",
   "execution_count": 163,
   "metadata": {},
   "outputs": [
    {
     "data": {
      "text/html": [
       "<div>\n",
       "<style scoped>\n",
       "    .dataframe tbody tr th:only-of-type {\n",
       "        vertical-align: middle;\n",
       "    }\n",
       "\n",
       "    .dataframe tbody tr th {\n",
       "        vertical-align: top;\n",
       "    }\n",
       "\n",
       "    .dataframe thead th {\n",
       "        text-align: right;\n",
       "    }\n",
       "</style>\n",
       "<table border=\"1\" class=\"dataframe\">\n",
       "  <thead>\n",
       "    <tr style=\"text-align: right;\">\n",
       "      <th></th>\n",
       "      <th>Amount</th>\n",
       "    </tr>\n",
       "  </thead>\n",
       "  <tbody>\n",
       "    <tr>\n",
       "      <th>count</th>\n",
       "      <td>34.000000</td>\n",
       "    </tr>\n",
       "    <tr>\n",
       "      <th>mean</th>\n",
       "      <td>14902.998118</td>\n",
       "    </tr>\n",
       "    <tr>\n",
       "      <th>std</th>\n",
       "      <td>4014.450405</td>\n",
       "    </tr>\n",
       "    <tr>\n",
       "      <th>min</th>\n",
       "      <td>7084.251000</td>\n",
       "    </tr>\n",
       "    <tr>\n",
       "      <th>25%</th>\n",
       "      <td>11310.832750</td>\n",
       "    </tr>\n",
       "    <tr>\n",
       "      <th>50%</th>\n",
       "      <td>16492.769500</td>\n",
       "    </tr>\n",
       "    <tr>\n",
       "      <th>75%</th>\n",
       "      <td>18223.297750</td>\n",
       "    </tr>\n",
       "    <tr>\n",
       "      <th>max</th>\n",
       "      <td>19817.747000</td>\n",
       "    </tr>\n",
       "  </tbody>\n",
       "</table>\n",
       "</div>"
      ],
      "text/plain": [
       "             Amount\n",
       "count     34.000000\n",
       "mean   14902.998118\n",
       "std     4014.450405\n",
       "min     7084.251000\n",
       "25%    11310.832750\n",
       "50%    16492.769500\n",
       "75%    18223.297750\n",
       "max    19817.747000"
      ]
     },
     "execution_count": 163,
     "metadata": {},
     "output_type": "execute_result"
    }
   ],
   "source": [
    "Food_availability.describe(include = [float])"
   ]
  },
  {
   "cell_type": "code",
   "execution_count": 164,
   "metadata": {},
   "outputs": [
    {
     "data": {
      "image/png": "[encoded data removed]",
      "text/plain": [
       "<Figure size 720x504 with 1 Axes>"
      ]
     },
     "metadata": {
      "needs_background": "light"
     },
     "output_type": "display_data"
    }
   ],
   "source": [
    "x = Food_availability['Year']\n",
    "y = Food_availability['Amount']\n",
    "fig = plt.figure(figsize =(10,7))\n",
    "plt.bar(x, y)\n",
    "plt.show()"
   ]
  },
  {
   "cell_type": "code",
   "execution_count": 165,
   "metadata": {},
   "outputs": [
    {
     "data": {
      "image/png": "[encoded data removed]",
      "text/plain": [
       "<Figure size 432x288 with 2 Axes>"
      ]
     },
     "metadata": {
      "needs_background": "light"
     },
     "output_type": "display_data"
    }
   ],
   "source": [
    "fig, ax = plt.subplots()\n",
    "ax2 = ax.twinx()\n",
    "Yield.plot(x=\"Year\", y=[\"Amount\"], ax=ax)\n",
    "Total_population.plot(x=\"Year\", y=[\"Amount\"],ax=ax2, ls=\"--\")\n",
    "#plt.bar(x, y)\n",
    "plt.show()"
   ]
  },
  {
   "cell_type": "code",
   "execution_count": 169,
   "metadata": {},
   "outputs": [
    {
     "data": {
      "image/png": "[encoded data removed]",
      "text/plain": [
       "<Figure size 432x288 with 2 Axes>"
      ]
     },
     "metadata": {
      "needs_background": "light"
     },
     "output_type": "display_data"
    }
   ],
   "source": [
    "fig, ax = plt.subplots()\n",
    "ax2 = ax.twinx()\n",
    "Food_availability.plot(x=\"Year\", y=[\"Amount\"], ax=ax)\n",
    "Total_population.plot(x=\"Year\", y=[\"Amount\"],ax=ax2, ls=\"--\")\n",
    "#plt.bar(x, y)\n",
    "plt.show()"
   ]
  },
  {
   "cell_type": "code",
   "execution_count": null,
   "metadata": {},
   "outputs": [],
   "source": []
  },
  {
   "cell_type": "code",
   "execution_count": null,
   "metadata": {},
   "outputs": [],
   "source": []
  },
  {
   "cell_type": "code",
   "execution_count": null,
   "metadata": {},
   "outputs": [],
   "source": []
  },
  {
   "cell_type": "code",
   "execution_count": null,
   "metadata": {},
   "outputs": [],
   "source": []
  },
  {
   "cell_type": "code",
   "execution_count": null,
   "metadata": {},
   "outputs": [],
   "source": []
  },
  {
   "cell_type": "code",
   "execution_count": null,
   "metadata": {},
   "outputs": [],
   "source": []
  },
  {
   "cell_type": "code",
   "execution_count": 64,
   "metadata": {},
   "outputs": [
    {
     "data": {
      "text/plain": [
       "<AxesSubplot:>"
      ]
     },
     "execution_count": 64,
     "metadata": {},
     "output_type": "execute_result"
    },
    {
     "data": {
      "image/png": "[encoded data removed]",
      "text/plain": [
       "<Figure size 432x288 with 2 Axes>"
      ]
     },
     "metadata": {
      "needs_background": "light"
     },
     "output_type": "display_data"
    }
   ],
   "source": [
    "sns.heatmap(df.corr())"
   ]
  },
  {
   "cell_type": "code",
   "execution_count": null,
   "metadata": {},
   "outputs": [],
   "source": []
  }
 ],
 "metadata": {
  "kernelspec": {
   "display_name": "Python 3",
   "language": "python",
   "name": "python3"
  },
  "language_info": {
   "codemirror_mode": {
    "name": "ipython",
    "version": 3
   },
   "file_extension": ".py",
   "mimetype": "text/x-python",
   "name": "python",
   "nbconvert_exporter": "python",
   "pygments_lexer": "ipython3",
   "version": "3.8.5"
  }
 },
 "nbformat": 4,
 "nbformat_minor": 4
}
